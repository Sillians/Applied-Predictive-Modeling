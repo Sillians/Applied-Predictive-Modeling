{
 "cells": [
  {
   "cell_type": "markdown",
   "metadata": {},
   "source": [
    "### 05/02/2020\n",
    "## Applied Predictive Modeling-Chapter 4\n",
    "### GROUP 9\n",
    "   _Anwunah Sobechukwu_ ,\n",
    "   _Oyelami Quadri_ ,\n",
    "   _Akeju Tony_"
   ]
  },
  {
   "cell_type": "code",
   "execution_count": 425,
   "metadata": {},
   "outputs": [],
   "source": [
    "#Importing packages\n",
    "import pandas as pd\n",
    "import numpy as np\n",
    "import matplotlib.pyplot as plt\n",
    "from sklearn.svm import SVC\n",
    "from sklearn.model_selection import train_test_split\n",
    "from sklearn.metrics import accuracy_score\n",
    "from sklearn import preprocessing\n",
    "\n",
    "pd.set_option('display.max_columns', None)\n",
    "pd.set_option('display.max_rows', None)"
   ]
  },
  {
   "cell_type": "markdown",
   "metadata": {},
   "source": [
    "# Question 4.1"
   ]
  },
  {
   "cell_type": "code",
   "execution_count": 427,
   "metadata": {},
   "outputs": [
    {
     "name": "stdout",
     "output_type": "stream",
     "text": [
      "(11452, 192)\n"
     ]
    },
    {
     "data": {
      "text/plain": [
       "<matplotlib.axes._subplots.AxesSubplot at 0x1d5ecb46ac8>"
      ]
     },
     "execution_count": 427,
     "metadata": {},
     "output_type": "execute_result"
    },
    {
     "data": {
      "image/png": "[encoded data removed]",
      "text/plain": [
       "<Figure size 432x288 with 1 Axes>"
      ]
     },
     "metadata": {
      "needs_background": "light"
     },
     "output_type": "display_data"
    }
   ],
   "source": [
    "#Oil Type Predictors\n",
    "mus_var = pd.read_csv('genresTrain.csv',low_memory=False)\n",
    "print(mus_var.shape)\n",
    "mus_var['GENRE'].value_counts().plot.bar(title='Frequency Distribution of the Target Class in the original data set')"
   ]
  },
  {
   "cell_type": "markdown",
   "metadata": {},
   "source": [
    "### (a) What data splitting method(s) would you use for these data? Explain."
   ]
  },
  {
   "cell_type": "markdown",
   "metadata": {},
   "source": [
    "The Training set of the music genre dataset comprises of 11452 samples and 192 predictors, with the 192nd predictor being the target variable of 6 classes. The classes and their frequency are thus:\n",
    "    \n",
    "    Classical    3157\n",
    "    Jazz         2760\n",
    "    Rock         1792\n",
    "    Blues        1462\n",
    "    Pop          1438\n",
    "    Metal         842\n",
    "\n",
    "Because the sample size is large enough, a simple train test split can be done. Although, the classes may seem represented, it is a bit imbalance and to avoid missing out on any class during the split, a stratified random sample should be used. \n",
    "The train_test_split function of the scikit learn library can be used to split the data into desired fractions while passing in the target column to the **stratify** argument\n",
    "\n",
    "To evaluate model performance, due to the large sample size, cross validation can be used to evaluate the performance using a KFold of 5 or 10"
   ]
  },
  {
   "cell_type": "markdown",
   "metadata": {},
   "source": [
    "# Question 4.3"
   ]
  },
  {
   "cell_type": "code",
   "execution_count": 428,
   "metadata": {},
   "outputs": [],
   "source": [
    "XcalManProcess = pd.read_csv('ChemicalManufacturingProcess.csv')\n",
    "X = XcalManProcess.iloc[0:,1:]\n",
    "y = XcalManProcess.iloc[0:,0]\n",
    "X_train, X_test, y_train, y_test = train_test_split(X, y, random_state=1)"
   ]
  },
  {
   "cell_type": "code",
   "execution_count": 408,
   "metadata": {},
   "outputs": [
    {
     "data": {
      "text/html": [
       "<div>\n",
       "<style scoped>\n",
       "    .dataframe tbody tr th:only-of-type {\n",
       "        vertical-align: middle;\n",
       "    }\n",
       "\n",
       "    .dataframe tbody tr th {\n",
       "        vertical-align: top;\n",
       "    }\n",
       "\n",
       "    .dataframe thead th {\n",
       "        text-align: right;\n",
       "    }\n",
       "</style>\n",
       "<table border=\"1\" class=\"dataframe\">\n",
       "  <thead>\n",
       "    <tr style=\"text-align: right;\">\n",
       "      <th></th>\n",
       "      <th>Mean</th>\n",
       "      <th>Std_Error</th>\n",
       "    </tr>\n",
       "    <tr>\n",
       "      <th>Components</th>\n",
       "      <th></th>\n",
       "      <th></th>\n",
       "    </tr>\n",
       "  </thead>\n",
       "  <tbody>\n",
       "    <tr>\n",
       "      <th>1</th>\n",
       "      <td>0.444</td>\n",
       "      <td>0.0272</td>\n",
       "    </tr>\n",
       "    <tr>\n",
       "      <th>2</th>\n",
       "      <td>0.500</td>\n",
       "      <td>0.0298</td>\n",
       "    </tr>\n",
       "    <tr>\n",
       "      <th>3</th>\n",
       "      <td>0.533</td>\n",
       "      <td>0.0302</td>\n",
       "    </tr>\n",
       "    <tr>\n",
       "      <th>4</th>\n",
       "      <td>0.545</td>\n",
       "      <td>0.0308</td>\n",
       "    </tr>\n",
       "    <tr>\n",
       "      <th>5</th>\n",
       "      <td>0.542</td>\n",
       "      <td>0.0322</td>\n",
       "    </tr>\n",
       "    <tr>\n",
       "      <th>6</th>\n",
       "      <td>0.537</td>\n",
       "      <td>0.0327</td>\n",
       "    </tr>\n",
       "    <tr>\n",
       "      <th>7</th>\n",
       "      <td>0.534</td>\n",
       "      <td>0.0333</td>\n",
       "    </tr>\n",
       "    <tr>\n",
       "      <th>8</th>\n",
       "      <td>0.534</td>\n",
       "      <td>0.0330</td>\n",
       "    </tr>\n",
       "    <tr>\n",
       "      <th>9</th>\n",
       "      <td>0.520</td>\n",
       "      <td>0.0326</td>\n",
       "    </tr>\n",
       "    <tr>\n",
       "      <th>10</th>\n",
       "      <td>0.507</td>\n",
       "      <td>0.0324</td>\n",
       "    </tr>\n",
       "  </tbody>\n",
       "</table>\n",
       "</div>"
      ],
      "text/plain": [
       "             Mean  Std_Error\n",
       "Components                  \n",
       "1           0.444     0.0272\n",
       "2           0.500     0.0298\n",
       "3           0.533     0.0302\n",
       "4           0.545     0.0308\n",
       "5           0.542     0.0322\n",
       "6           0.537     0.0327\n",
       "7           0.534     0.0333\n",
       "8           0.534     0.0330\n",
       "9           0.520     0.0326\n",
       "10          0.507     0.0324"
      ]
     },
     "execution_count": 408,
     "metadata": {},
     "output_type": "execute_result"
    }
   ],
   "source": [
    "Components = range(1,11)\n",
    "Mean = (0.444,0.500,0.533,0.545,0.542,0.537,0.534,0.534,0.520,0.507)\n",
    "Std_Error = (0.0272,0.0298,0.0302,0.0308,0.0322,0.0327,0.0333,0.0330,0.0326,0.0324)\n",
    "Resampled = pd.DataFrame(\n",
    "    {'Components': Components,\n",
    "     'Mean': Mean,\n",
    "     'Std_Error': Std_Error\n",
    "    })\n",
    "Resampled = Resampled.set_index('Components')\n",
    "Resampled"
   ]
  },
  {
   "cell_type": "markdown",
   "metadata": {},
   "source": [
    "### (a) Using the “one-standard error”method, what number of PLS components provides the most parsimonious model?"
   ]
  },
  {
   "cell_type": "code",
   "execution_count": 409,
   "metadata": {},
   "outputs": [
    {
     "data": {
      "text/html": [
       "<div>\n",
       "<style scoped>\n",
       "    .dataframe tbody tr th:only-of-type {\n",
       "        vertical-align: middle;\n",
       "    }\n",
       "\n",
       "    .dataframe tbody tr th {\n",
       "        vertical-align: top;\n",
       "    }\n",
       "\n",
       "    .dataframe thead th {\n",
       "        text-align: right;\n",
       "    }\n",
       "</style>\n",
       "<table border=\"1\" class=\"dataframe\">\n",
       "  <thead>\n",
       "    <tr style=\"text-align: right;\">\n",
       "      <th></th>\n",
       "      <th>Mean</th>\n",
       "      <th>Std_Error</th>\n",
       "      <th>Lower Boundary</th>\n",
       "      <th>Upper Boundary</th>\n",
       "    </tr>\n",
       "    <tr>\n",
       "      <th>Components</th>\n",
       "      <th></th>\n",
       "      <th></th>\n",
       "      <th></th>\n",
       "      <th></th>\n",
       "    </tr>\n",
       "  </thead>\n",
       "  <tbody>\n",
       "    <tr>\n",
       "      <th>1</th>\n",
       "      <td>0.444</td>\n",
       "      <td>0.0272</td>\n",
       "      <td>0.4168</td>\n",
       "      <td>0.4712</td>\n",
       "    </tr>\n",
       "    <tr>\n",
       "      <th>2</th>\n",
       "      <td>0.500</td>\n",
       "      <td>0.0298</td>\n",
       "      <td>0.4702</td>\n",
       "      <td>0.5298</td>\n",
       "    </tr>\n",
       "    <tr>\n",
       "      <th>3</th>\n",
       "      <td>0.533</td>\n",
       "      <td>0.0302</td>\n",
       "      <td>0.5028</td>\n",
       "      <td>0.5632</td>\n",
       "    </tr>\n",
       "    <tr>\n",
       "      <th>4</th>\n",
       "      <td>0.545</td>\n",
       "      <td>0.0308</td>\n",
       "      <td>0.5142</td>\n",
       "      <td>0.5758</td>\n",
       "    </tr>\n",
       "    <tr>\n",
       "      <th>5</th>\n",
       "      <td>0.542</td>\n",
       "      <td>0.0322</td>\n",
       "      <td>0.5098</td>\n",
       "      <td>0.5742</td>\n",
       "    </tr>\n",
       "    <tr>\n",
       "      <th>6</th>\n",
       "      <td>0.537</td>\n",
       "      <td>0.0327</td>\n",
       "      <td>0.5043</td>\n",
       "      <td>0.5697</td>\n",
       "    </tr>\n",
       "    <tr>\n",
       "      <th>7</th>\n",
       "      <td>0.534</td>\n",
       "      <td>0.0333</td>\n",
       "      <td>0.5007</td>\n",
       "      <td>0.5673</td>\n",
       "    </tr>\n",
       "    <tr>\n",
       "      <th>8</th>\n",
       "      <td>0.534</td>\n",
       "      <td>0.0330</td>\n",
       "      <td>0.5010</td>\n",
       "      <td>0.5670</td>\n",
       "    </tr>\n",
       "    <tr>\n",
       "      <th>9</th>\n",
       "      <td>0.520</td>\n",
       "      <td>0.0326</td>\n",
       "      <td>0.4874</td>\n",
       "      <td>0.5526</td>\n",
       "    </tr>\n",
       "    <tr>\n",
       "      <th>10</th>\n",
       "      <td>0.507</td>\n",
       "      <td>0.0324</td>\n",
       "      <td>0.4746</td>\n",
       "      <td>0.5394</td>\n",
       "    </tr>\n",
       "  </tbody>\n",
       "</table>\n",
       "</div>"
      ],
      "text/plain": [
       "             Mean  Std_Error  Lower Boundary  Upper Boundary\n",
       "Components                                                  \n",
       "1           0.444     0.0272          0.4168          0.4712\n",
       "2           0.500     0.0298          0.4702          0.5298\n",
       "3           0.533     0.0302          0.5028          0.5632\n",
       "4           0.545     0.0308          0.5142          0.5758\n",
       "5           0.542     0.0322          0.5098          0.5742\n",
       "6           0.537     0.0327          0.5043          0.5697\n",
       "7           0.534     0.0333          0.5007          0.5673\n",
       "8           0.534     0.0330          0.5010          0.5670\n",
       "9           0.520     0.0326          0.4874          0.5526\n",
       "10          0.507     0.0324          0.4746          0.5394"
      ]
     },
     "execution_count": 409,
     "metadata": {},
     "output_type": "execute_result"
    }
   ],
   "source": [
    "Resampled['Lower Boundary'] = Resampled['Mean'] - Resampled['Std_Error']\n",
    "Resampled['Upper Boundary'] = Resampled['Mean'] + Resampled['Std_Error']\n",
    "Resampled"
   ]
  },
  {
   "cell_type": "code",
   "execution_count": 410,
   "metadata": {},
   "outputs": [
    {
     "data": {
      "text/plain": [
       "<matplotlib.axes._subplots.AxesSubplot at 0x1d5ed6475c0>"
      ]
     },
     "execution_count": 410,
     "metadata": {},
     "output_type": "execute_result"
    },
    {
     "data": {
      "image/png": "[encoded data removed]",
      "text/plain": [
       "<Figure size 432x288 with 1 Axes>"
      ]
     },
     "metadata": {
      "needs_background": "light"
     },
     "output_type": "display_data"
    }
   ],
   "source": [
    "Resampled['Mean'].plot(grid=True)"
   ]
  },
  {
   "cell_type": "markdown",
   "metadata": {},
   "source": [
    "From the plot of the Mean, we can see that the numerically optimal value of the component parameter is a mean of 0.545 at 4 components.\n",
    "\n",
    "The most parsimonious model will be the component in which its mean falls within one standard error of the numerically optimal value component. That is the mean accuracy should be greater than the lower boundary but less than the mean of the numerically optimal value component.\n",
    "\n",
    "The lower boundary of the component 4 is 0.5142 and the component with a mean accuracy that falls withi the falls within one standard error of the numerically optimal value component is component 3 with a mean of 0.533"
   ]
  },
  {
   "cell_type": "markdown",
   "metadata": {},
   "source": [
    "### (b) Compute the tolerance values for this example. If a 10% loss in R2 is acceptable, then what is the optimal number of PLS components?"
   ]
  },
  {
   "cell_type": "code",
   "execution_count": 411,
   "metadata": {},
   "outputs": [
    {
     "data": {
      "text/html": [
       "<div>\n",
       "<style scoped>\n",
       "    .dataframe tbody tr th:only-of-type {\n",
       "        vertical-align: middle;\n",
       "    }\n",
       "\n",
       "    .dataframe tbody tr th {\n",
       "        vertical-align: top;\n",
       "    }\n",
       "\n",
       "    .dataframe thead th {\n",
       "        text-align: right;\n",
       "    }\n",
       "</style>\n",
       "<table border=\"1\" class=\"dataframe\">\n",
       "  <thead>\n",
       "    <tr style=\"text-align: right;\">\n",
       "      <th></th>\n",
       "      <th>Mean</th>\n",
       "      <th>Std_Error</th>\n",
       "      <th>Lower Boundary</th>\n",
       "      <th>Upper Boundary</th>\n",
       "      <th>Tolerance</th>\n",
       "    </tr>\n",
       "    <tr>\n",
       "      <th>Components</th>\n",
       "      <th></th>\n",
       "      <th></th>\n",
       "      <th></th>\n",
       "      <th></th>\n",
       "      <th></th>\n",
       "    </tr>\n",
       "  </thead>\n",
       "  <tbody>\n",
       "    <tr>\n",
       "      <th>1</th>\n",
       "      <td>0.444</td>\n",
       "      <td>0.0272</td>\n",
       "      <td>0.4168</td>\n",
       "      <td>0.4712</td>\n",
       "      <td>-0.185321</td>\n",
       "    </tr>\n",
       "    <tr>\n",
       "      <th>2</th>\n",
       "      <td>0.500</td>\n",
       "      <td>0.0298</td>\n",
       "      <td>0.4702</td>\n",
       "      <td>0.5298</td>\n",
       "      <td>-0.082569</td>\n",
       "    </tr>\n",
       "    <tr>\n",
       "      <th>3</th>\n",
       "      <td>0.533</td>\n",
       "      <td>0.0302</td>\n",
       "      <td>0.5028</td>\n",
       "      <td>0.5632</td>\n",
       "      <td>-0.022018</td>\n",
       "    </tr>\n",
       "    <tr>\n",
       "      <th>4</th>\n",
       "      <td>0.545</td>\n",
       "      <td>0.0308</td>\n",
       "      <td>0.5142</td>\n",
       "      <td>0.5758</td>\n",
       "      <td>0.000000</td>\n",
       "    </tr>\n",
       "    <tr>\n",
       "      <th>5</th>\n",
       "      <td>0.542</td>\n",
       "      <td>0.0322</td>\n",
       "      <td>0.5098</td>\n",
       "      <td>0.5742</td>\n",
       "      <td>-0.005505</td>\n",
       "    </tr>\n",
       "    <tr>\n",
       "      <th>6</th>\n",
       "      <td>0.537</td>\n",
       "      <td>0.0327</td>\n",
       "      <td>0.5043</td>\n",
       "      <td>0.5697</td>\n",
       "      <td>-0.014679</td>\n",
       "    </tr>\n",
       "    <tr>\n",
       "      <th>7</th>\n",
       "      <td>0.534</td>\n",
       "      <td>0.0333</td>\n",
       "      <td>0.5007</td>\n",
       "      <td>0.5673</td>\n",
       "      <td>-0.020183</td>\n",
       "    </tr>\n",
       "    <tr>\n",
       "      <th>8</th>\n",
       "      <td>0.534</td>\n",
       "      <td>0.0330</td>\n",
       "      <td>0.5010</td>\n",
       "      <td>0.5670</td>\n",
       "      <td>-0.020183</td>\n",
       "    </tr>\n",
       "    <tr>\n",
       "      <th>9</th>\n",
       "      <td>0.520</td>\n",
       "      <td>0.0326</td>\n",
       "      <td>0.4874</td>\n",
       "      <td>0.5526</td>\n",
       "      <td>-0.045872</td>\n",
       "    </tr>\n",
       "    <tr>\n",
       "      <th>10</th>\n",
       "      <td>0.507</td>\n",
       "      <td>0.0324</td>\n",
       "      <td>0.4746</td>\n",
       "      <td>0.5394</td>\n",
       "      <td>-0.069725</td>\n",
       "    </tr>\n",
       "  </tbody>\n",
       "</table>\n",
       "</div>"
      ],
      "text/plain": [
       "             Mean  Std_Error  Lower Boundary  Upper Boundary  Tolerance\n",
       "Components                                                             \n",
       "1           0.444     0.0272          0.4168          0.4712  -0.185321\n",
       "2           0.500     0.0298          0.4702          0.5298  -0.082569\n",
       "3           0.533     0.0302          0.5028          0.5632  -0.022018\n",
       "4           0.545     0.0308          0.5142          0.5758   0.000000\n",
       "5           0.542     0.0322          0.5098          0.5742  -0.005505\n",
       "6           0.537     0.0327          0.5043          0.5697  -0.014679\n",
       "7           0.534     0.0333          0.5007          0.5673  -0.020183\n",
       "8           0.534     0.0330          0.5010          0.5670  -0.020183\n",
       "9           0.520     0.0326          0.4874          0.5526  -0.045872\n",
       "10          0.507     0.0324          0.4746          0.5394  -0.069725"
      ]
     },
     "execution_count": 411,
     "metadata": {},
     "output_type": "execute_result"
    }
   ],
   "source": [
    "Resampled['Tolerance'] = (Resampled['Mean'] - 0.545) / 0.545\n",
    "Resampled"
   ]
  },
  {
   "cell_type": "code",
   "execution_count": 424,
   "metadata": {},
   "outputs": [
    {
     "data": {
      "text/plain": [
       "0.491"
      ]
     },
     "execution_count": 424,
     "metadata": {},
     "output_type": "execute_result"
    }
   ],
   "source": [
    "loss = round(0.545-(0.10*0.545),3)\n",
    "loss"
   ]
  },
  {
   "cell_type": "markdown",
   "metadata": {},
   "source": [
    "Another alternative to finding the parsimonious model is to select the model of mean within a certain tolerance of the numerically best value. In this case we have an acceptable loss of 10%, so any component with mean within this range is acceptable. Evaluating the loss as 0.491, any mean value that is between this and the numerically best value is acceptable. \n",
    "\n",
    "Also, see below in the plot that the model components that falls within 10% of the numerically best value is component 2 and 3. "
   ]
  },
  {
   "cell_type": "code",
   "execution_count": 429,
   "metadata": {},
   "outputs": [
    {
     "data": {
      "text/plain": [
       "<matplotlib.axes._subplots.AxesSubplot at 0x1d5ecafaf28>"
      ]
     },
     "execution_count": 429,
     "metadata": {},
     "output_type": "execute_result"
    },
    {
     "data": {
      "image/png": "[encoded data removed]",
      "text/plain": [
       "<Figure size 432x288 with 1 Axes>"
      ]
     },
     "metadata": {
      "needs_background": "light"
     },
     "output_type": "display_data"
    }
   ],
   "source": [
    "Resampled['Tolerance'].plot(grid=True)"
   ]
  },
  {
   "cell_type": "markdown",
   "metadata": {},
   "source": [
    "### (c) Several other models (discussed in Part II) with varying degrees of complexity were trained and tuned and the results are presented in Fig. 4.13. If the goal is to select the model that optimizes R2, then which model(s) would you choose, and why?"
   ]
  },
  {
   "cell_type": "markdown",
   "metadata": {},
   "source": [
    "The R square is highest for the random forest model followed by the SVM model, so for optimizing Rsquare these are the most prefered model."
   ]
  },
  {
   "cell_type": "markdown",
   "metadata": {},
   "source": [
    "### (d) Prediction time, as well as model complexity (Sect. 4.8) are other factors to consider when selecting the optimal model(s). Given each model’s prediction time, model complexity, and R2 estimates, which model(s) would you choose, and why?"
   ]
  },
  {
   "cell_type": "markdown",
   "metadata": {},
   "source": [
    "Base on model’s prediction time, model complexity, and R squred  estimates the prefered model would be the SVM model considering that it is fairly fast and its R squre is close to the best R square."
   ]
  },
  {
   "cell_type": "markdown",
   "metadata": {},
   "source": [
    "# Question 4.4"
   ]
  },
  {
   "cell_type": "code",
   "execution_count": 430,
   "metadata": {},
   "outputs": [
    {
     "name": "stdout",
     "output_type": "stream",
     "text": [
      "(96, 7)\n",
      "(96, 1)\n",
      "(96, 8)\n"
     ]
    },
    {
     "data": {
      "text/plain": [
       "<matplotlib.axes._subplots.AxesSubplot at 0x1d5e4d82828>"
      ]
     },
     "execution_count": 430,
     "metadata": {},
     "output_type": "execute_result"
    },
    {
     "data": {
      "image/png": "[encoded data removed]",
      "text/plain": [
       "<Figure size 432x288 with 1 Axes>"
      ]
     },
     "metadata": {
      "needs_background": "light"
     },
     "output_type": "display_data"
    }
   ],
   "source": [
    "#Oil Type Predictors\n",
    "var = pd.read_csv('Oil.csv')\n",
    "\n",
    "#Oil Type Labels\n",
    "tag = pd.read_csv('oilType.csv')\n",
    "print(var.shape)\n",
    "print(tag.shape)\n",
    "\n",
    "#Join both dataframe \n",
    "df = pd.concat([var,tag],axis=1)\n",
    "print(df.shape)\n",
    "#Plotting the distribution of the Oil type labels using a horizontal bar plot\n",
    "df['OilType'].value_counts().plot.bar(rot=0,legend=True,title='Frequency Distribution of the Target Class in the original data set')"
   ]
  },
  {
   "cell_type": "markdown",
   "metadata": {},
   "source": [
    "### (a) Use the sample function in base R to create a completely random sample of 60 oils. How closely do the frequencies of the random sample match the original samples? \n",
    "\n",
    "#### Repeat this procedure several times of understand the variation in the sampling process."
   ]
  },
  {
   "cell_type": "markdown",
   "metadata": {},
   "source": [
    "###### The pandas library has a function **sample** that randomly shuffles the data set and returns a sample of the data based on the size passed in the argument.\n",
    "\n",
    "The For loop below generates 6 different samples and uses a bar plot to display the target variable didtribution in each sample to be compared with the classes represented in the actual dataset."
   ]
  },
  {
   "cell_type": "code",
   "execution_count": 313,
   "metadata": {},
   "outputs": [
    {
     "data": {
      "image/png": "[encoded data removed]",
      "text/plain": [
       "<Figure size 1080x1080 with 6 Axes>"
      ]
     },
     "metadata": {
      "needs_background": "light"
     },
     "output_type": "display_data"
    }
   ],
   "source": [
    "freqTab = {}\n",
    "fig = plt.figure(figsize=(15,15))\n",
    "for i in range(1,7):\n",
    "    samp = df.sample(n=60,random_state=i+2)\n",
    "    samp_freq = samp['OilType'].value_counts()\n",
    "    freqTab['sample ' + str(i)] =samp_freq\n",
    "    ax = fig.add_subplot(3, 3,i)\n",
    "    samp['OilType'].value_counts().plot.bar(rot=0)\n",
    "    ax.set_xlabel('OilType')\n",
    "    ax.set_ylabel('Frequency')\n",
    "    ax.set_title('Sample ' +str(i))\n",
    "\n",
    "plt.tight_layout(pad=3.0)\n",
    "plt.show()"
   ]
  },
  {
   "cell_type": "markdown",
   "metadata": {},
   "source": [
    "Using the sample function, we can see that there is more variability with the classes with lower frequency as they may not be included in some partitions. Classes like **G** and **C** may not be captured in some samples and thus will be insuffiecient to be used to train a model."
   ]
  },
  {
   "cell_type": "code",
   "execution_count": 314,
   "metadata": {},
   "outputs": [
    {
     "data": {
      "text/html": [
       "<div>\n",
       "<style scoped>\n",
       "    .dataframe tbody tr th:only-of-type {\n",
       "        vertical-align: middle;\n",
       "    }\n",
       "\n",
       "    .dataframe tbody tr th {\n",
       "        vertical-align: top;\n",
       "    }\n",
       "\n",
       "    .dataframe thead th {\n",
       "        text-align: right;\n",
       "    }\n",
       "</style>\n",
       "<table border=\"1\" class=\"dataframe\">\n",
       "  <thead>\n",
       "    <tr style=\"text-align: right;\">\n",
       "      <th></th>\n",
       "      <th>OilType</th>\n",
       "      <th>sample 1</th>\n",
       "      <th>sample 2</th>\n",
       "      <th>sample 3</th>\n",
       "      <th>sample 4</th>\n",
       "      <th>sample 5</th>\n",
       "      <th>sample 6</th>\n",
       "    </tr>\n",
       "  </thead>\n",
       "  <tbody>\n",
       "    <tr>\n",
       "      <th>0</th>\n",
       "      <td>A</td>\n",
       "      <td>21</td>\n",
       "      <td>25</td>\n",
       "      <td>23</td>\n",
       "      <td>22</td>\n",
       "      <td>23</td>\n",
       "      <td>25.0</td>\n",
       "    </tr>\n",
       "    <tr>\n",
       "      <th>1</th>\n",
       "      <td>B</td>\n",
       "      <td>18</td>\n",
       "      <td>18</td>\n",
       "      <td>15</td>\n",
       "      <td>14</td>\n",
       "      <td>18</td>\n",
       "      <td>18.0</td>\n",
       "    </tr>\n",
       "    <tr>\n",
       "      <th>2</th>\n",
       "      <td>C</td>\n",
       "      <td>2</td>\n",
       "      <td>3</td>\n",
       "      <td>2</td>\n",
       "      <td>1</td>\n",
       "      <td>1</td>\n",
       "      <td>NaN</td>\n",
       "    </tr>\n",
       "    <tr>\n",
       "      <th>3</th>\n",
       "      <td>D</td>\n",
       "      <td>5</td>\n",
       "      <td>3</td>\n",
       "      <td>4</td>\n",
       "      <td>7</td>\n",
       "      <td>4</td>\n",
       "      <td>4.0</td>\n",
       "    </tr>\n",
       "    <tr>\n",
       "      <th>4</th>\n",
       "      <td>E</td>\n",
       "      <td>5</td>\n",
       "      <td>5</td>\n",
       "      <td>9</td>\n",
       "      <td>8</td>\n",
       "      <td>6</td>\n",
       "      <td>8.0</td>\n",
       "    </tr>\n",
       "    <tr>\n",
       "      <th>5</th>\n",
       "      <td>F</td>\n",
       "      <td>8</td>\n",
       "      <td>5</td>\n",
       "      <td>5</td>\n",
       "      <td>7</td>\n",
       "      <td>6</td>\n",
       "      <td>4.0</td>\n",
       "    </tr>\n",
       "    <tr>\n",
       "      <th>6</th>\n",
       "      <td>G</td>\n",
       "      <td>1</td>\n",
       "      <td>1</td>\n",
       "      <td>2</td>\n",
       "      <td>1</td>\n",
       "      <td>2</td>\n",
       "      <td>1.0</td>\n",
       "    </tr>\n",
       "  </tbody>\n",
       "</table>\n",
       "</div>"
      ],
      "text/plain": [
       "  OilType  sample 1  sample 2  sample 3  sample 4  sample 5  sample 6\n",
       "0       A        21        25        23        22        23      25.0\n",
       "1       B        18        18        15        14        18      18.0\n",
       "2       C         2         3         2         1         1       NaN\n",
       "3       D         5         3         4         7         4       4.0\n",
       "4       E         5         5         9         8         6       8.0\n",
       "5       F         8         5         5         7         6       4.0\n",
       "6       G         1         1         2         1         2       1.0"
      ]
     },
     "execution_count": 314,
     "metadata": {},
     "output_type": "execute_result"
    }
   ],
   "source": [
    "freq_tab = pd.DataFrame(freqTab).reset_index().rename(columns={'index': 'OilType'})\n",
    "freq_tab"
   ]
  },
  {
   "cell_type": "markdown",
   "metadata": {},
   "source": [
    "### (b) Use the caret package function createDataPartition to create a stratified random sample. How does this compare to the completely random samples?"
   ]
  },
  {
   "cell_type": "markdown",
   "metadata": {},
   "source": [
    "The Scikit Learn library has a module **Train-test-split** that splits the data into the desired fractions when **test_size** or **frac** is pass. The **test_size** can either be in float(0.0 - 1.0) or integer(1-(n-1)), if it's a float then the split returns a fraction of the data that is equivalent to the test_size passed as the test size but if it is an integer it returns the exact number passed as the test data.\n",
    "\n",
    "To create stratified random splits of the data based on a particular variable, the variable of interest is assigned to the parameter **stratify**. In this case we want the split to be based on the target variable.\n",
    "\n",
    "Reference: <a href=\"https://scikit-learn.org/stable/modules/generated/sklearn.model_selection.train_test_split.html?highlight=split#sklearn.model_selection.train_test_split\">train_test_split</a>"
   ]
  },
  {
   "cell_type": "code",
   "execution_count": 79,
   "metadata": {},
   "outputs": [],
   "source": [
    "X_train, X_test, y_train, y_test = train_test_split(var, tag, test_size=0.33, random_state=42, stratify=tag)"
   ]
  },
  {
   "cell_type": "code",
   "execution_count": 311,
   "metadata": {},
   "outputs": [
    {
     "data": {
      "text/plain": [
       "A    22\n",
       "B    15\n",
       "F     6\n",
       "E     6\n",
       "D     4\n",
       "C     2\n",
       "G     1\n",
       "Name: OilType, dtype: int64"
      ]
     },
     "execution_count": 311,
     "metadata": {},
     "output_type": "execute_result"
    }
   ],
   "source": [
    "y_train['OilType'].value_counts()"
   ]
  },
  {
   "cell_type": "markdown",
   "metadata": {},
   "source": [
    "The stratified sampling generates random samples that are closer to the original sample in terms of the frequency distribution and putting into consideration the target variables, making sure that each class from the original data set is equally represented in the split and none is left out unlike the random sampling which does not consider this and in some cases will present a sample case with less than or an absense of a particular class especially when a class is underrepresented. "
   ]
  },
  {
   "cell_type": "markdown",
   "metadata": {},
   "source": [
    "### (c) With such a small samples size, what are the options for determining performance of the model? Should a test set be used?"
   ]
  },
  {
   "cell_type": "markdown",
   "metadata": {},
   "source": [
    "Setting aside a test set for determining model performance not only reduces the learning capacity of the model as regards to the reduced number of training data but the performance metrics will be biased as the test data wouldn't be enough to give an optimal performance metric of the model. Preferably, **Leave-one-out-Cross-Validation** will be used as computational cost wouldn't be much of a problem considering the number of samples. **N-number** of sample data will be left out for testing while the remaining is being used to train the model."
   ]
  },
  {
   "cell_type": "markdown",
   "metadata": {},
   "source": [
    "### (d) Try different samples sizes and accuracy rates to understand the trade-off between the uncertainty in the results, the model performance, and the test set size."
   ]
  },
  {
   "cell_type": "code",
   "execution_count": 297,
   "metadata": {},
   "outputs": [],
   "source": [
    "#calculate the 95% confidence interval\n",
    "def binom_confidence_interval(accuracy,n,ci):\n",
    "    \"\"\"\n",
    "    accuracy - accuracy of classifier model on test/validation set\n",
    "    n - Number of sample used for test/validation\n",
    "    ci - Percentage of Confidence Interval (90,95,98,99)\n",
    "    \"\"\"\n",
    "    from math import sqrt\n",
    "    if ci == 90:\n",
    "        z=1.64 \n",
    "    if ci == 95:\n",
    "        z=1.96\n",
    "    if ci == 98:\n",
    "        z=2.33\n",
    "    if ci == 99:\n",
    "        z=2.58\n",
    "    \n",
    "    interval = z * sqrt( (accuracy * (1 - accuracy)) / n)\n",
    "    lower_ci = accuracy - interval\n",
    "    upper_ci = accuracy + interval\n",
    "    width_ci = upper_ci-lower_ci\n",
    "\n",
    "    return lower_ci.round(3),upper_ci.round(3)\n",
    "\n",
    "#binom_confidence_interval(acc,len(y_test),95)"
   ]
  },
  {
   "cell_type": "markdown",
   "metadata": {},
   "source": [
    "The SVM library of sklearn takes in quite a number of arguments amongst which these 3 are paramount:\n",
    "\n",
    "   1. **C** - The regularization parameter with the objective to balance the margin maximization and loss. Regularization is a technique of penalizing high-variance models in the optimization process to get less overfitted one. The penalty is a squared l2 penalty. This is incorporated in the **Cost Function**; average of the loss functions of the entire training set In the SVM algorithm (The loss function known as the hinge loss helps maximize the margin between the data points and the hyperplane.)\n",
    "   2. **kernel** - Specifies the kernel type to be used in the algorithm. It must be one of ‘linear’, ‘poly’, ‘rbf’, ‘sigmoid’, ‘precomputed’ or a callable. \n",
    "\n",
    "For more information, <a href=\"https://scikit-learn.org/stable/modules/generated/sklearn.svm.SVC.html\">Read here</a>\n",
    "<a href=\" https://scikit-learn.org/stable/modules/svm.html#svm-kernels\">and here</a>\n",
    " \n",
    "          "
   ]
  },
  {
   "cell_type": "code",
   "execution_count": 328,
   "metadata": {},
   "outputs": [
    {
     "data": {
      "text/html": [
       "<div>\n",
       "<style scoped>\n",
       "    .dataframe tbody tr th:only-of-type {\n",
       "        vertical-align: middle;\n",
       "    }\n",
       "\n",
       "    .dataframe tbody tr th {\n",
       "        vertical-align: top;\n",
       "    }\n",
       "\n",
       "    .dataframe thead th {\n",
       "        text-align: right;\n",
       "    }\n",
       "</style>\n",
       "<table border=\"1\" class=\"dataframe\">\n",
       "  <thead>\n",
       "    <tr style=\"text-align: right;\">\n",
       "      <th></th>\n",
       "      <th>Test Size 20</th>\n",
       "      <th>Test Size 25</th>\n",
       "      <th>Test Size 30</th>\n",
       "      <th>Test Size 35</th>\n",
       "      <th>Test Size 40</th>\n",
       "      <th>Test Size 45</th>\n",
       "      <th>Test Size 50</th>\n",
       "      <th>Test Size 55</th>\n",
       "      <th>Test Size 60</th>\n",
       "      <th>Test Size 65</th>\n",
       "      <th>Test Size 70</th>\n",
       "    </tr>\n",
       "  </thead>\n",
       "  <tbody>\n",
       "    <tr>\n",
       "      <th>Accuracy</th>\n",
       "      <td>1.0</td>\n",
       "      <td>0.920</td>\n",
       "      <td>0.900</td>\n",
       "      <td>0.940</td>\n",
       "      <td>0.920</td>\n",
       "      <td>0.910</td>\n",
       "      <td>0.960</td>\n",
       "      <td>0.910</td>\n",
       "      <td>0.970</td>\n",
       "      <td>0.970</td>\n",
       "      <td>0.93</td>\n",
       "    </tr>\n",
       "    <tr>\n",
       "      <th>Lower Confidence Interval</th>\n",
       "      <td>1.0</td>\n",
       "      <td>0.814</td>\n",
       "      <td>0.793</td>\n",
       "      <td>0.861</td>\n",
       "      <td>0.836</td>\n",
       "      <td>0.826</td>\n",
       "      <td>0.906</td>\n",
       "      <td>0.834</td>\n",
       "      <td>0.927</td>\n",
       "      <td>0.929</td>\n",
       "      <td>0.87</td>\n",
       "    </tr>\n",
       "    <tr>\n",
       "      <th>Upper Confidence Interval</th>\n",
       "      <td>1.0</td>\n",
       "      <td>1.026</td>\n",
       "      <td>1.007</td>\n",
       "      <td>1.019</td>\n",
       "      <td>1.004</td>\n",
       "      <td>0.994</td>\n",
       "      <td>1.014</td>\n",
       "      <td>0.986</td>\n",
       "      <td>1.013</td>\n",
       "      <td>1.011</td>\n",
       "      <td>0.99</td>\n",
       "    </tr>\n",
       "    <tr>\n",
       "      <th>Width</th>\n",
       "      <td>0.0</td>\n",
       "      <td>0.212</td>\n",
       "      <td>0.214</td>\n",
       "      <td>0.158</td>\n",
       "      <td>0.168</td>\n",
       "      <td>0.168</td>\n",
       "      <td>0.108</td>\n",
       "      <td>0.152</td>\n",
       "      <td>0.086</td>\n",
       "      <td>0.082</td>\n",
       "      <td>0.12</td>\n",
       "    </tr>\n",
       "  </tbody>\n",
       "</table>\n",
       "</div>"
      ],
      "text/plain": [
       "                           Test Size 20  Test Size 25  Test Size 30  \\\n",
       "Accuracy                            1.0         0.920         0.900   \n",
       "Lower Confidence Interval           1.0         0.814         0.793   \n",
       "Upper Confidence Interval           1.0         1.026         1.007   \n",
       "Width                               0.0         0.212         0.214   \n",
       "\n",
       "                           Test Size 35  Test Size 40  Test Size 45  \\\n",
       "Accuracy                          0.940         0.920         0.910   \n",
       "Lower Confidence Interval         0.861         0.836         0.826   \n",
       "Upper Confidence Interval         1.019         1.004         0.994   \n",
       "Width                             0.158         0.168         0.168   \n",
       "\n",
       "                           Test Size 50  Test Size 55  Test Size 60  \\\n",
       "Accuracy                          0.960         0.910         0.970   \n",
       "Lower Confidence Interval         0.906         0.834         0.927   \n",
       "Upper Confidence Interval         1.014         0.986         1.013   \n",
       "Width                             0.108         0.152         0.086   \n",
       "\n",
       "                           Test Size 65  Test Size 70  \n",
       "Accuracy                          0.970          0.93  \n",
       "Lower Confidence Interval         0.929          0.87  \n",
       "Upper Confidence Interval         1.011          0.99  \n",
       "Width                             0.082          0.12  "
      ]
     },
     "execution_count": 328,
     "metadata": {},
     "output_type": "execute_result"
    }
   ],
   "source": [
    "result = {}\n",
    "for size in range(20,75,5):\n",
    "    ##Split Data into training and test set\n",
    "    X_train, X_test, y_train, y_test = train_test_split(var, tag, test_size=size, random_state=size+2, stratify=tag)\n",
    "    ##Build the model\n",
    "    clf = SVC(kernel='linear')\n",
    "    clf.fit(X_train,y_train.values.ravel())\n",
    "\n",
    "    #Predict the test set\n",
    "    y_pred = clf.predict(X_test)\n",
    "\n",
    "    #Check accuracy\n",
    "    acc = accuracy_score(y_test,y_pred).round(2)\n",
    "\n",
    "    #Number of Correctly Identified Class\n",
    "    cor_class = acc*len(y_test)\n",
    "    \n",
    "    lower_ci, upper_ci = binom_confidence_interval(accuracy=acc,n=size,ci=95)\n",
    "    width = upper_ci - lower_ci\n",
    "    \n",
    "    result['Test Size ' + str(size)] = [acc,lower_ci, upper_ci, width]\n",
    "\n",
    "res = pd.DataFrame(result,index=['Accuracy','Lower Confidence Interval','Upper Confidence Interval', 'Width'] )\n",
    "res"
   ]
  },
  {
   "cell_type": "markdown",
   "metadata": {},
   "source": [
    "   1. The decrease in train data reduces the peformance of the model as it is more profitable to use large set of data to train the model. \n",
    "   2. The test set is so small to validate the performance of the model so it is very likely it will have higher accuracy in smaller set than with a larger test set. The model may not really perform well if a large data is tested given the same amount of training data.\n",
    "   3. With same accuracy, increase in test size reduces the width of the interval; they are indirectly proportional to the other. \n",
    "   \n",
    "These observations are subjective and are likely to differ in some other predictive models. So it is advisable that each modeling case be subjected to same evaluation to be able to determine the best or most prefered tuning parameters."
   ]
  }
 ],
 "metadata": {
  "kernelspec": {
   "display_name": "Python 3",
   "language": "python",
   "name": "python3"
  },
  "language_info": {
   "codemirror_mode": {
    "name": "ipython",
    "version": 3
   },
   "file_extension": ".py",
   "mimetype": "text/x-python",
   "name": "python",
   "nbconvert_exporter": "python",
   "pygments_lexer": "ipython3",
   "version": "3.7.3"
  }
 },
 "nbformat": 4,
 "nbformat_minor": 2
}
